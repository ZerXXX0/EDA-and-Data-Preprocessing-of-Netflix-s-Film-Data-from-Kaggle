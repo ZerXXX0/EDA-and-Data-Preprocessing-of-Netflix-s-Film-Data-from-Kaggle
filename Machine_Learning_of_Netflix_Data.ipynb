{
  "nbformat": 4,
  "nbformat_minor": 0,
  "metadata": {
    "colab": {
      "provenance": [],
      "authorship_tag": "ABX9TyOu1apbS6g53Pgg3cV5G9fA",
      "include_colab_link": true
    },
    "kernelspec": {
      "name": "python3",
      "display_name": "Python 3"
    },
    "language_info": {
      "name": "python"
    }
  },
  "cells": [
    {
      "cell_type": "markdown",
      "metadata": {
        "id": "view-in-github",
        "colab_type": "text"
      },
      "source": [
        "<a href=\"https://colab.research.google.com/github/ZerXXX0/EDA-and-Data-Preprocessing-of-Netflix-s-Film-Data-from-Kaggle/blob/main/Machine_Learning_of_Netflix_Data.ipynb\" target=\"_parent\"><img src=\"https://colab.research.google.com/assets/colab-badge.svg\" alt=\"Open In Colab\"/></a>"
      ]
    },
    {
      "cell_type": "code",
      "execution_count": 1,
      "metadata": {
        "id": "4KGDJ9vVgg3Q"
      },
      "outputs": [],
      "source": [
        "#import\n",
        "import numpy as np\n",
        "import pandas as pd\n",
        "import matplotlib.pyplot as plt\n",
        "import seaborn as sns\n",
        "from sklearn.model_selection import train_test_split"
      ]
    },
    {
      "cell_type": "code",
      "source": [
        "netflix_data = pd."
      ],
      "metadata": {
        "id": "IhTrgn6BgzFC"
      },
      "execution_count": null,
      "outputs": []
    }
  ]
}